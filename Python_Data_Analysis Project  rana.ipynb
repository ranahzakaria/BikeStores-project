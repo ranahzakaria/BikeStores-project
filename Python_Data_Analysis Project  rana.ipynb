{
 "cells": [
  {
   "cell_type": "markdown",
   "metadata": {
    "id": "jcjhePTczbDT"
   },
   "source": [
    "# PYTHON DATA ANALYSIS"
   ]
  },
  {
   "cell_type": "markdown",
   "metadata": {
    "id": "3HV_WMyjzbDZ"
   },
   "source": [
    "## Outline\n",
    "- Data Analysis Steps\n",
    "- Full Data Analysis Case-study\n",
    "    - BikeStores Analysis"
   ]
  },
  {
   "cell_type": "markdown",
   "metadata": {
    "id": "bclBnIb-zbDd"
   },
   "source": [
    "# Full Data Analysis Case-study (BikeStores Analysis)"
   ]
  },
  {
   "cell_type": "markdown",
   "metadata": {
    "id": "fM5VhCv3zbDe"
   },
   "source": [
    "### 1] Libraries & Data Importing"
   ]
  },
  {
   "cell_type": "markdown",
   "metadata": {
    "id": "o_PB64nIzbDf"
   },
   "source": [
    "##### Import libraries and read in the BikeStores csv file"
   ]
  },
  {
   "cell_type": "code",
   "execution_count": 3,
   "metadata": {
    "id": "Cdunbqv4zbDj"
   },
   "outputs": [],
   "source": [
    "import numpy as np\n",
    "import pandas as pd "
   ]
  },
  {
   "cell_type": "code",
   "execution_count": 4,
   "metadata": {},
   "outputs": [],
   "source": [
    "data = pd.read_csv('BikeStores.csv')"
   ]
  },
  {
   "cell_type": "markdown",
   "metadata": {
    "id": "wTNMLj0FzbDk"
   },
   "source": [
    "### 2] Data Understanding (Asking Questions)"
   ]
  },
  {
   "cell_type": "code",
   "execution_count": null,
   "metadata": {},
   "outputs": [],
   "source": [
    "#1- read data\n",
    "#2- print head and tail\n",
    "#3- info about data\n",
    "#4- describe data\n",
    "#5- Check missing values\n",
    "#6- if missing values in any column ---> handle\n",
    "#7- unique values and value count for each column\n",
    "#8- shape of data "
   ]
  },
  {
   "cell_type": "markdown",
   "metadata": {
    "id": "BRiR3MWNzbDl"
   },
   "source": [
    "##### Check the content of the DataFrame"
   ]
  },
  {
   "cell_type": "code",
   "execution_count": 9,
   "metadata": {
    "id": "pl96ad_xe503"
   },
   "outputs": [
    {
     "data": {
      "text/html": [
       "<div>\n",
       "<style scoped>\n",
       "    .dataframe tbody tr th:only-of-type {\n",
       "        vertical-align: middle;\n",
       "    }\n",
       "\n",
       "    .dataframe tbody tr th {\n",
       "        vertical-align: top;\n",
       "    }\n",
       "\n",
       "    .dataframe thead th {\n",
       "        text-align: right;\n",
       "    }\n",
       "</style>\n",
       "<table border=\"1\" class=\"dataframe\">\n",
       "  <thead>\n",
       "    <tr style=\"text-align: right;\">\n",
       "      <th></th>\n",
       "      <th>order_id</th>\n",
       "      <th>customers</th>\n",
       "      <th>city</th>\n",
       "      <th>state</th>\n",
       "      <th>order_date</th>\n",
       "      <th>total_units</th>\n",
       "      <th>revenue</th>\n",
       "      <th>product_name</th>\n",
       "      <th>category_name</th>\n",
       "      <th>brand_name</th>\n",
       "      <th>store_name</th>\n",
       "      <th>sales_rep</th>\n",
       "    </tr>\n",
       "  </thead>\n",
       "  <tbody>\n",
       "    <tr>\n",
       "      <th>0</th>\n",
       "      <td>1</td>\n",
       "      <td>Johnathan Velazquez</td>\n",
       "      <td>Pleasanton</td>\n",
       "      <td>CA</td>\n",
       "      <td>1/1/2016</td>\n",
       "      <td>2</td>\n",
       "      <td>1199.98</td>\n",
       "      <td>Electra Townie Original 7D EQ - 2016</td>\n",
       "      <td>Cruisers Bicycles</td>\n",
       "      <td>Electra</td>\n",
       "      <td>Santa Cruz Bikes</td>\n",
       "      <td>Mireya Copeland</td>\n",
       "    </tr>\n",
       "    <tr>\n",
       "      <th>1</th>\n",
       "      <td>1</td>\n",
       "      <td>Johnathan Velazquez</td>\n",
       "      <td>Pleasanton</td>\n",
       "      <td>CA</td>\n",
       "      <td>1/1/2016</td>\n",
       "      <td>1</td>\n",
       "      <td>599.99</td>\n",
       "      <td>Electra Townie Original 7D EQ - Women's - 2016</td>\n",
       "      <td>Cruisers Bicycles</td>\n",
       "      <td>Electra</td>\n",
       "      <td>Santa Cruz Bikes</td>\n",
       "      <td>Mireya Copeland</td>\n",
       "    </tr>\n",
       "    <tr>\n",
       "      <th>2</th>\n",
       "      <td>1</td>\n",
       "      <td>Johnathan Velazquez</td>\n",
       "      <td>Pleasanton</td>\n",
       "      <td>CA</td>\n",
       "      <td>1/1/2016</td>\n",
       "      <td>2</td>\n",
       "      <td>3098.00</td>\n",
       "      <td>Surly Straggler - 2016</td>\n",
       "      <td>Cyclocross Bicycles</td>\n",
       "      <td>Surly</td>\n",
       "      <td>Santa Cruz Bikes</td>\n",
       "      <td>Mireya Copeland</td>\n",
       "    </tr>\n",
       "    <tr>\n",
       "      <th>3</th>\n",
       "      <td>1</td>\n",
       "      <td>Johnathan Velazquez</td>\n",
       "      <td>Pleasanton</td>\n",
       "      <td>CA</td>\n",
       "      <td>1/1/2016</td>\n",
       "      <td>1</td>\n",
       "      <td>2899.99</td>\n",
       "      <td>Trek Fuel EX 8 29 - 2016</td>\n",
       "      <td>Mountain Bikes</td>\n",
       "      <td>Trek</td>\n",
       "      <td>Santa Cruz Bikes</td>\n",
       "      <td>Mireya Copeland</td>\n",
       "    </tr>\n",
       "    <tr>\n",
       "      <th>4</th>\n",
       "      <td>1</td>\n",
       "      <td>Johnathan Velazquez</td>\n",
       "      <td>Pleasanton</td>\n",
       "      <td>CA</td>\n",
       "      <td>1/1/2016</td>\n",
       "      <td>2</td>\n",
       "      <td>3599.98</td>\n",
       "      <td>Trek Remedy 29 Carbon Frameset - 2016</td>\n",
       "      <td>Mountain Bikes</td>\n",
       "      <td>Trek</td>\n",
       "      <td>Santa Cruz Bikes</td>\n",
       "      <td>Mireya Copeland</td>\n",
       "    </tr>\n",
       "    <tr>\n",
       "      <th>...</th>\n",
       "      <td>...</td>\n",
       "      <td>...</td>\n",
       "      <td>...</td>\n",
       "      <td>...</td>\n",
       "      <td>...</td>\n",
       "      <td>...</td>\n",
       "      <td>...</td>\n",
       "      <td>...</td>\n",
       "      <td>...</td>\n",
       "      <td>...</td>\n",
       "      <td>...</td>\n",
       "      <td>...</td>\n",
       "    </tr>\n",
       "    <tr>\n",
       "      <th>4717</th>\n",
       "      <td>1614</td>\n",
       "      <td>Dorthey Jackson</td>\n",
       "      <td>Houston</td>\n",
       "      <td>TX</td>\n",
       "      <td>28/11/2018</td>\n",
       "      <td>1</td>\n",
       "      <td>1499.00</td>\n",
       "      <td>Surly Krampus - 2018</td>\n",
       "      <td>Mountain Bikes</td>\n",
       "      <td>Surly</td>\n",
       "      <td>Rowlett Bikes</td>\n",
       "      <td>Kali Vargas</td>\n",
       "    </tr>\n",
       "    <tr>\n",
       "      <th>4718</th>\n",
       "      <td>1614</td>\n",
       "      <td>Dorthey Jackson</td>\n",
       "      <td>Houston</td>\n",
       "      <td>TX</td>\n",
       "      <td>28/11/2018</td>\n",
       "      <td>2</td>\n",
       "      <td>4599.98</td>\n",
       "      <td>Trek Emonda ALR 6 - 2018</td>\n",
       "      <td>Road Bikes</td>\n",
       "      <td>Trek</td>\n",
       "      <td>Rowlett Bikes</td>\n",
       "      <td>Kali Vargas</td>\n",
       "    </tr>\n",
       "    <tr>\n",
       "      <th>4719</th>\n",
       "      <td>1615</td>\n",
       "      <td>Sarita Parks</td>\n",
       "      <td>Forney</td>\n",
       "      <td>TX</td>\n",
       "      <td>28/12/2018</td>\n",
       "      <td>1</td>\n",
       "      <td>899.99</td>\n",
       "      <td>Electra Tiger Shark 3i - 2018</td>\n",
       "      <td>Cruisers Bicycles</td>\n",
       "      <td>Electra</td>\n",
       "      <td>Rowlett Bikes</td>\n",
       "      <td>Kali Vargas</td>\n",
       "    </tr>\n",
       "    <tr>\n",
       "      <th>4720</th>\n",
       "      <td>1615</td>\n",
       "      <td>Sarita Parks</td>\n",
       "      <td>Forney</td>\n",
       "      <td>TX</td>\n",
       "      <td>28/12/2018</td>\n",
       "      <td>1</td>\n",
       "      <td>2499.99</td>\n",
       "      <td>Trek Domane SL 5 Disc - 2018</td>\n",
       "      <td>Road Bikes</td>\n",
       "      <td>Trek</td>\n",
       "      <td>Rowlett Bikes</td>\n",
       "      <td>Kali Vargas</td>\n",
       "    </tr>\n",
       "    <tr>\n",
       "      <th>4721</th>\n",
       "      <td>1615</td>\n",
       "      <td>Sarita Parks</td>\n",
       "      <td>Forney</td>\n",
       "      <td>TX</td>\n",
       "      <td>28/12/2018</td>\n",
       "      <td>2</td>\n",
       "      <td>4599.98</td>\n",
       "      <td>Trek Verve+ Lowstep - 2018</td>\n",
       "      <td>Electric Bikes</td>\n",
       "      <td>Trek</td>\n",
       "      <td>Rowlett Bikes</td>\n",
       "      <td>Kali Vargas</td>\n",
       "    </tr>\n",
       "  </tbody>\n",
       "</table>\n",
       "<p>4722 rows × 12 columns</p>\n",
       "</div>"
      ],
      "text/plain": [
       "      order_id            customers        city state  order_date  \\\n",
       "0            1  Johnathan Velazquez  Pleasanton    CA    1/1/2016   \n",
       "1            1  Johnathan Velazquez  Pleasanton    CA    1/1/2016   \n",
       "2            1  Johnathan Velazquez  Pleasanton    CA    1/1/2016   \n",
       "3            1  Johnathan Velazquez  Pleasanton    CA    1/1/2016   \n",
       "4            1  Johnathan Velazquez  Pleasanton    CA    1/1/2016   \n",
       "...        ...                  ...         ...   ...         ...   \n",
       "4717      1614      Dorthey Jackson     Houston    TX  28/11/2018   \n",
       "4718      1614      Dorthey Jackson     Houston    TX  28/11/2018   \n",
       "4719      1615         Sarita Parks      Forney    TX  28/12/2018   \n",
       "4720      1615         Sarita Parks      Forney    TX  28/12/2018   \n",
       "4721      1615         Sarita Parks      Forney    TX  28/12/2018   \n",
       "\n",
       "      total_units  revenue                                    product_name  \\\n",
       "0               2  1199.98            Electra Townie Original 7D EQ - 2016   \n",
       "1               1   599.99  Electra Townie Original 7D EQ - Women's - 2016   \n",
       "2               2  3098.00                          Surly Straggler - 2016   \n",
       "3               1  2899.99                        Trek Fuel EX 8 29 - 2016   \n",
       "4               2  3599.98           Trek Remedy 29 Carbon Frameset - 2016   \n",
       "...           ...      ...                                             ...   \n",
       "4717            1  1499.00                            Surly Krampus - 2018   \n",
       "4718            2  4599.98                        Trek Emonda ALR 6 - 2018   \n",
       "4719            1   899.99                   Electra Tiger Shark 3i - 2018   \n",
       "4720            1  2499.99                    Trek Domane SL 5 Disc - 2018   \n",
       "4721            2  4599.98                      Trek Verve+ Lowstep - 2018   \n",
       "\n",
       "            category_name brand_name        store_name        sales_rep  \n",
       "0       Cruisers Bicycles    Electra  Santa Cruz Bikes  Mireya Copeland  \n",
       "1       Cruisers Bicycles    Electra  Santa Cruz Bikes  Mireya Copeland  \n",
       "2     Cyclocross Bicycles      Surly  Santa Cruz Bikes  Mireya Copeland  \n",
       "3          Mountain Bikes       Trek  Santa Cruz Bikes  Mireya Copeland  \n",
       "4          Mountain Bikes       Trek  Santa Cruz Bikes  Mireya Copeland  \n",
       "...                   ...        ...               ...              ...  \n",
       "4717       Mountain Bikes      Surly     Rowlett Bikes      Kali Vargas  \n",
       "4718           Road Bikes       Trek     Rowlett Bikes      Kali Vargas  \n",
       "4719    Cruisers Bicycles    Electra     Rowlett Bikes      Kali Vargas  \n",
       "4720           Road Bikes       Trek     Rowlett Bikes      Kali Vargas  \n",
       "4721       Electric Bikes       Trek     Rowlett Bikes      Kali Vargas  \n",
       "\n",
       "[4722 rows x 12 columns]"
      ]
     },
     "execution_count": 9,
     "metadata": {},
     "output_type": "execute_result"
    }
   ],
   "source": [
    "# 1- Read data\n",
    "data"
   ]
  },
  {
   "cell_type": "code",
   "execution_count": 8,
   "metadata": {},
   "outputs": [
    {
     "data": {
      "text/html": [
       "<div>\n",
       "<style scoped>\n",
       "    .dataframe tbody tr th:only-of-type {\n",
       "        vertical-align: middle;\n",
       "    }\n",
       "\n",
       "    .dataframe tbody tr th {\n",
       "        vertical-align: top;\n",
       "    }\n",
       "\n",
       "    .dataframe thead th {\n",
       "        text-align: right;\n",
       "    }\n",
       "</style>\n",
       "<table border=\"1\" class=\"dataframe\">\n",
       "  <thead>\n",
       "    <tr style=\"text-align: right;\">\n",
       "      <th></th>\n",
       "      <th>order_id</th>\n",
       "      <th>customers</th>\n",
       "      <th>city</th>\n",
       "      <th>state</th>\n",
       "      <th>order_date</th>\n",
       "      <th>total_units</th>\n",
       "      <th>revenue</th>\n",
       "      <th>product_name</th>\n",
       "      <th>category_name</th>\n",
       "      <th>brand_name</th>\n",
       "      <th>store_name</th>\n",
       "      <th>sales_rep</th>\n",
       "    </tr>\n",
       "  </thead>\n",
       "  <tbody>\n",
       "    <tr>\n",
       "      <th>0</th>\n",
       "      <td>1</td>\n",
       "      <td>Johnathan Velazquez</td>\n",
       "      <td>Pleasanton</td>\n",
       "      <td>CA</td>\n",
       "      <td>1/1/2016</td>\n",
       "      <td>2</td>\n",
       "      <td>1199.98</td>\n",
       "      <td>Electra Townie Original 7D EQ - 2016</td>\n",
       "      <td>Cruisers Bicycles</td>\n",
       "      <td>Electra</td>\n",
       "      <td>Santa Cruz Bikes</td>\n",
       "      <td>Mireya Copeland</td>\n",
       "    </tr>\n",
       "    <tr>\n",
       "      <th>1</th>\n",
       "      <td>1</td>\n",
       "      <td>Johnathan Velazquez</td>\n",
       "      <td>Pleasanton</td>\n",
       "      <td>CA</td>\n",
       "      <td>1/1/2016</td>\n",
       "      <td>1</td>\n",
       "      <td>599.99</td>\n",
       "      <td>Electra Townie Original 7D EQ - Women's - 2016</td>\n",
       "      <td>Cruisers Bicycles</td>\n",
       "      <td>Electra</td>\n",
       "      <td>Santa Cruz Bikes</td>\n",
       "      <td>Mireya Copeland</td>\n",
       "    </tr>\n",
       "    <tr>\n",
       "      <th>2</th>\n",
       "      <td>1</td>\n",
       "      <td>Johnathan Velazquez</td>\n",
       "      <td>Pleasanton</td>\n",
       "      <td>CA</td>\n",
       "      <td>1/1/2016</td>\n",
       "      <td>2</td>\n",
       "      <td>3098.00</td>\n",
       "      <td>Surly Straggler - 2016</td>\n",
       "      <td>Cyclocross Bicycles</td>\n",
       "      <td>Surly</td>\n",
       "      <td>Santa Cruz Bikes</td>\n",
       "      <td>Mireya Copeland</td>\n",
       "    </tr>\n",
       "    <tr>\n",
       "      <th>3</th>\n",
       "      <td>1</td>\n",
       "      <td>Johnathan Velazquez</td>\n",
       "      <td>Pleasanton</td>\n",
       "      <td>CA</td>\n",
       "      <td>1/1/2016</td>\n",
       "      <td>1</td>\n",
       "      <td>2899.99</td>\n",
       "      <td>Trek Fuel EX 8 29 - 2016</td>\n",
       "      <td>Mountain Bikes</td>\n",
       "      <td>Trek</td>\n",
       "      <td>Santa Cruz Bikes</td>\n",
       "      <td>Mireya Copeland</td>\n",
       "    </tr>\n",
       "    <tr>\n",
       "      <th>4</th>\n",
       "      <td>1</td>\n",
       "      <td>Johnathan Velazquez</td>\n",
       "      <td>Pleasanton</td>\n",
       "      <td>CA</td>\n",
       "      <td>1/1/2016</td>\n",
       "      <td>2</td>\n",
       "      <td>3599.98</td>\n",
       "      <td>Trek Remedy 29 Carbon Frameset - 2016</td>\n",
       "      <td>Mountain Bikes</td>\n",
       "      <td>Trek</td>\n",
       "      <td>Santa Cruz Bikes</td>\n",
       "      <td>Mireya Copeland</td>\n",
       "    </tr>\n",
       "  </tbody>\n",
       "</table>\n",
       "</div>"
      ],
      "text/plain": [
       "   order_id            customers        city state order_date  total_units  \\\n",
       "0         1  Johnathan Velazquez  Pleasanton    CA   1/1/2016            2   \n",
       "1         1  Johnathan Velazquez  Pleasanton    CA   1/1/2016            1   \n",
       "2         1  Johnathan Velazquez  Pleasanton    CA   1/1/2016            2   \n",
       "3         1  Johnathan Velazquez  Pleasanton    CA   1/1/2016            1   \n",
       "4         1  Johnathan Velazquez  Pleasanton    CA   1/1/2016            2   \n",
       "\n",
       "   revenue                                    product_name  \\\n",
       "0  1199.98            Electra Townie Original 7D EQ - 2016   \n",
       "1   599.99  Electra Townie Original 7D EQ - Women's - 2016   \n",
       "2  3098.00                          Surly Straggler - 2016   \n",
       "3  2899.99                        Trek Fuel EX 8 29 - 2016   \n",
       "4  3599.98           Trek Remedy 29 Carbon Frameset - 2016   \n",
       "\n",
       "         category_name brand_name        store_name        sales_rep  \n",
       "0    Cruisers Bicycles    Electra  Santa Cruz Bikes  Mireya Copeland  \n",
       "1    Cruisers Bicycles    Electra  Santa Cruz Bikes  Mireya Copeland  \n",
       "2  Cyclocross Bicycles      Surly  Santa Cruz Bikes  Mireya Copeland  \n",
       "3       Mountain Bikes       Trek  Santa Cruz Bikes  Mireya Copeland  \n",
       "4       Mountain Bikes       Trek  Santa Cruz Bikes  Mireya Copeland  "
      ]
     },
     "execution_count": 8,
     "metadata": {},
     "output_type": "execute_result"
    }
   ],
   "source": [
    "# 2- Print head\n",
    "data.head()"
   ]
  },
  {
   "cell_type": "code",
   "execution_count": 10,
   "metadata": {},
   "outputs": [
    {
     "data": {
      "text/html": [
       "<div>\n",
       "<style scoped>\n",
       "    .dataframe tbody tr th:only-of-type {\n",
       "        vertical-align: middle;\n",
       "    }\n",
       "\n",
       "    .dataframe tbody tr th {\n",
       "        vertical-align: top;\n",
       "    }\n",
       "\n",
       "    .dataframe thead th {\n",
       "        text-align: right;\n",
       "    }\n",
       "</style>\n",
       "<table border=\"1\" class=\"dataframe\">\n",
       "  <thead>\n",
       "    <tr style=\"text-align: right;\">\n",
       "      <th></th>\n",
       "      <th>order_id</th>\n",
       "      <th>customers</th>\n",
       "      <th>city</th>\n",
       "      <th>state</th>\n",
       "      <th>order_date</th>\n",
       "      <th>total_units</th>\n",
       "      <th>revenue</th>\n",
       "      <th>product_name</th>\n",
       "      <th>category_name</th>\n",
       "      <th>brand_name</th>\n",
       "      <th>store_name</th>\n",
       "      <th>sales_rep</th>\n",
       "    </tr>\n",
       "  </thead>\n",
       "  <tbody>\n",
       "    <tr>\n",
       "      <th>4717</th>\n",
       "      <td>1614</td>\n",
       "      <td>Dorthey Jackson</td>\n",
       "      <td>Houston</td>\n",
       "      <td>TX</td>\n",
       "      <td>28/11/2018</td>\n",
       "      <td>1</td>\n",
       "      <td>1499.00</td>\n",
       "      <td>Surly Krampus - 2018</td>\n",
       "      <td>Mountain Bikes</td>\n",
       "      <td>Surly</td>\n",
       "      <td>Rowlett Bikes</td>\n",
       "      <td>Kali Vargas</td>\n",
       "    </tr>\n",
       "    <tr>\n",
       "      <th>4718</th>\n",
       "      <td>1614</td>\n",
       "      <td>Dorthey Jackson</td>\n",
       "      <td>Houston</td>\n",
       "      <td>TX</td>\n",
       "      <td>28/11/2018</td>\n",
       "      <td>2</td>\n",
       "      <td>4599.98</td>\n",
       "      <td>Trek Emonda ALR 6 - 2018</td>\n",
       "      <td>Road Bikes</td>\n",
       "      <td>Trek</td>\n",
       "      <td>Rowlett Bikes</td>\n",
       "      <td>Kali Vargas</td>\n",
       "    </tr>\n",
       "    <tr>\n",
       "      <th>4719</th>\n",
       "      <td>1615</td>\n",
       "      <td>Sarita Parks</td>\n",
       "      <td>Forney</td>\n",
       "      <td>TX</td>\n",
       "      <td>28/12/2018</td>\n",
       "      <td>1</td>\n",
       "      <td>899.99</td>\n",
       "      <td>Electra Tiger Shark 3i - 2018</td>\n",
       "      <td>Cruisers Bicycles</td>\n",
       "      <td>Electra</td>\n",
       "      <td>Rowlett Bikes</td>\n",
       "      <td>Kali Vargas</td>\n",
       "    </tr>\n",
       "    <tr>\n",
       "      <th>4720</th>\n",
       "      <td>1615</td>\n",
       "      <td>Sarita Parks</td>\n",
       "      <td>Forney</td>\n",
       "      <td>TX</td>\n",
       "      <td>28/12/2018</td>\n",
       "      <td>1</td>\n",
       "      <td>2499.99</td>\n",
       "      <td>Trek Domane SL 5 Disc - 2018</td>\n",
       "      <td>Road Bikes</td>\n",
       "      <td>Trek</td>\n",
       "      <td>Rowlett Bikes</td>\n",
       "      <td>Kali Vargas</td>\n",
       "    </tr>\n",
       "    <tr>\n",
       "      <th>4721</th>\n",
       "      <td>1615</td>\n",
       "      <td>Sarita Parks</td>\n",
       "      <td>Forney</td>\n",
       "      <td>TX</td>\n",
       "      <td>28/12/2018</td>\n",
       "      <td>2</td>\n",
       "      <td>4599.98</td>\n",
       "      <td>Trek Verve+ Lowstep - 2018</td>\n",
       "      <td>Electric Bikes</td>\n",
       "      <td>Trek</td>\n",
       "      <td>Rowlett Bikes</td>\n",
       "      <td>Kali Vargas</td>\n",
       "    </tr>\n",
       "  </tbody>\n",
       "</table>\n",
       "</div>"
      ],
      "text/plain": [
       "      order_id        customers     city state  order_date  total_units  \\\n",
       "4717      1614  Dorthey Jackson  Houston    TX  28/11/2018            1   \n",
       "4718      1614  Dorthey Jackson  Houston    TX  28/11/2018            2   \n",
       "4719      1615     Sarita Parks   Forney    TX  28/12/2018            1   \n",
       "4720      1615     Sarita Parks   Forney    TX  28/12/2018            1   \n",
       "4721      1615     Sarita Parks   Forney    TX  28/12/2018            2   \n",
       "\n",
       "      revenue                   product_name      category_name brand_name  \\\n",
       "4717  1499.00           Surly Krampus - 2018     Mountain Bikes      Surly   \n",
       "4718  4599.98       Trek Emonda ALR 6 - 2018         Road Bikes       Trek   \n",
       "4719   899.99  Electra Tiger Shark 3i - 2018  Cruisers Bicycles    Electra   \n",
       "4720  2499.99   Trek Domane SL 5 Disc - 2018         Road Bikes       Trek   \n",
       "4721  4599.98     Trek Verve+ Lowstep - 2018     Electric Bikes       Trek   \n",
       "\n",
       "         store_name    sales_rep  \n",
       "4717  Rowlett Bikes  Kali Vargas  \n",
       "4718  Rowlett Bikes  Kali Vargas  \n",
       "4719  Rowlett Bikes  Kali Vargas  \n",
       "4720  Rowlett Bikes  Kali Vargas  \n",
       "4721  Rowlett Bikes  Kali Vargas  "
      ]
     },
     "execution_count": 10,
     "metadata": {},
     "output_type": "execute_result"
    }
   ],
   "source": [
    "#tail\n",
    "data.tail()"
   ]
  },
  {
   "cell_type": "code",
   "execution_count": 21,
   "metadata": {},
   "outputs": [
    {
     "name": "stdout",
     "output_type": "stream",
     "text": [
      "<class 'pandas.core.frame.DataFrame'>\n",
      "RangeIndex: 4722 entries, 0 to 4721\n",
      "Data columns (total 12 columns):\n",
      " #   Column         Non-Null Count  Dtype  \n",
      "---  ------         --------------  -----  \n",
      " 0   order_id       4722 non-null   int64  \n",
      " 1   customers      4722 non-null   object \n",
      " 2   city           4722 non-null   object \n",
      " 3   state          4722 non-null   object \n",
      " 4   order_date     4722 non-null   object \n",
      " 5   total_units    4722 non-null   int64  \n",
      " 6   revenue        4722 non-null   float64\n",
      " 7   product_name   4722 non-null   object \n",
      " 8   category_name  4722 non-null   object \n",
      " 9   brand_name     4722 non-null   object \n",
      " 10  store_name     4722 non-null   object \n",
      " 11  sales_rep      4722 non-null   object \n",
      "dtypes: float64(1), int64(2), object(9)\n",
      "memory usage: 442.8+ KB\n"
     ]
    }
   ],
   "source": [
    "data.info()"
   ]
  },
  {
   "cell_type": "markdown",
   "metadata": {
    "id": "yQf6NX_FzbDm"
   },
   "source": [
    "##### How many rows and columns are there?"
   ]
  },
  {
   "cell_type": "code",
   "execution_count": 20,
   "metadata": {},
   "outputs": [
    {
     "data": {
      "text/plain": [
       "(4722, 12)"
      ]
     },
     "execution_count": 20,
     "metadata": {},
     "output_type": "execute_result"
    }
   ],
   "source": [
    "# Rows, Columns\n",
    "data.shape"
   ]
  },
  {
   "cell_type": "markdown",
   "metadata": {},
   "source": [
    "##### Check the data types "
   ]
  },
  {
   "cell_type": "code",
   "execution_count": 17,
   "metadata": {},
   "outputs": [
    {
     "name": "stdout",
     "output_type": "stream",
     "text": [
      "order_id           int64\n",
      "customers         object\n",
      "city              object\n",
      "state             object\n",
      "order_date        object\n",
      "total_units        int64\n",
      "revenue          float64\n",
      "product_name      object\n",
      "category_name     object\n",
      "brand_name        object\n",
      "store_name        object\n",
      "sales_rep         object\n",
      "dtype: object\n"
     ]
    }
   ],
   "source": [
    "# Data types of each column\n",
    "print(data.dtypes)"
   ]
  },
  {
   "cell_type": "code",
   "execution_count": 19,
   "metadata": {},
   "outputs": [
    {
     "data": {
      "text/html": [
       "<div>\n",
       "<style scoped>\n",
       "    .dataframe tbody tr th:only-of-type {\n",
       "        vertical-align: middle;\n",
       "    }\n",
       "\n",
       "    .dataframe tbody tr th {\n",
       "        vertical-align: top;\n",
       "    }\n",
       "\n",
       "    .dataframe thead th {\n",
       "        text-align: right;\n",
       "    }\n",
       "</style>\n",
       "<table border=\"1\" class=\"dataframe\">\n",
       "  <thead>\n",
       "    <tr style=\"text-align: right;\">\n",
       "      <th></th>\n",
       "      <th>order_id</th>\n",
       "      <th>total_units</th>\n",
       "      <th>revenue</th>\n",
       "    </tr>\n",
       "  </thead>\n",
       "  <tbody>\n",
       "    <tr>\n",
       "      <th>count</th>\n",
       "      <td>4722.000000</td>\n",
       "      <td>4722.000000</td>\n",
       "      <td>4722.000000</td>\n",
       "    </tr>\n",
       "    <tr>\n",
       "      <th>mean</th>\n",
       "      <td>821.265354</td>\n",
       "      <td>1.498941</td>\n",
       "      <td>1816.812554</td>\n",
       "    </tr>\n",
       "    <tr>\n",
       "      <th>std</th>\n",
       "      <td>465.152168</td>\n",
       "      <td>0.500052</td>\n",
       "      <td>2228.160984</td>\n",
       "    </tr>\n",
       "    <tr>\n",
       "      <th>min</th>\n",
       "      <td>1.000000</td>\n",
       "      <td>1.000000</td>\n",
       "      <td>89.990000</td>\n",
       "    </tr>\n",
       "    <tr>\n",
       "      <th>25%</th>\n",
       "      <td>423.250000</td>\n",
       "      <td>1.000000</td>\n",
       "      <td>539.980000</td>\n",
       "    </tr>\n",
       "    <tr>\n",
       "      <th>50%</th>\n",
       "      <td>828.500000</td>\n",
       "      <td>1.000000</td>\n",
       "      <td>939.980000</td>\n",
       "    </tr>\n",
       "    <tr>\n",
       "      <th>75%</th>\n",
       "      <td>1226.000000</td>\n",
       "      <td>2.000000</td>\n",
       "      <td>1999.980000</td>\n",
       "    </tr>\n",
       "    <tr>\n",
       "      <th>max</th>\n",
       "      <td>1615.000000</td>\n",
       "      <td>2.000000</td>\n",
       "      <td>23999.980000</td>\n",
       "    </tr>\n",
       "  </tbody>\n",
       "</table>\n",
       "</div>"
      ],
      "text/plain": [
       "          order_id  total_units       revenue\n",
       "count  4722.000000  4722.000000   4722.000000\n",
       "mean    821.265354     1.498941   1816.812554\n",
       "std     465.152168     0.500052   2228.160984\n",
       "min       1.000000     1.000000     89.990000\n",
       "25%     423.250000     1.000000    539.980000\n",
       "50%     828.500000     1.000000    939.980000\n",
       "75%    1226.000000     2.000000   1999.980000\n",
       "max    1615.000000     2.000000  23999.980000"
      ]
     },
     "execution_count": 19,
     "metadata": {},
     "output_type": "execute_result"
    }
   ],
   "source": [
    "# Statistical Summary\n",
    "data.describe()"
   ]
  },
  {
   "cell_type": "markdown",
   "metadata": {
    "id": "Cmf07HWEzbDo"
   },
   "source": [
    "### 3] Data Wrangling (Cleaning & Manipulation)"
   ]
  },
  {
   "cell_type": "markdown",
   "metadata": {
    "id": "SLNiesMTzbDo"
   },
   "source": [
    "##### Are there any missing / duplicated data?"
   ]
  },
  {
   "cell_type": "code",
   "execution_count": 22,
   "metadata": {},
   "outputs": [
    {
     "data": {
      "text/plain": [
       "0"
      ]
     },
     "execution_count": 22,
     "metadata": {},
     "output_type": "execute_result"
    }
   ],
   "source": [
    "# Check for any duplicated data\n",
    "data.duplicated().sum()"
   ]
  },
  {
   "cell_type": "code",
   "execution_count": 23,
   "metadata": {},
   "outputs": [
    {
     "data": {
      "text/plain": [
       "order_id         0\n",
       "customers        0\n",
       "city             0\n",
       "state            0\n",
       "order_date       0\n",
       "total_units      0\n",
       "revenue          0\n",
       "product_name     0\n",
       "category_name    0\n",
       "brand_name       0\n",
       "store_name       0\n",
       "sales_rep        0\n",
       "dtype: int64"
      ]
     },
     "execution_count": 23,
     "metadata": {},
     "output_type": "execute_result"
    }
   ],
   "source": [
    "#  Check for missing values\n",
    "data.isnull().sum()"
   ]
  },
  {
   "cell_type": "raw",
   "metadata": {},
   "source": [
    "#remove null\n",
    "#Replace >> \n",
    "## Numerical>> Mean , Categorical >> Mode\n",
    "data.fillna(....)\n",
    "data.dropna()"
   ]
  },
  {
   "cell_type": "markdown",
   "metadata": {
    "id": "1vPyGDAUzbDp"
   },
   "source": [
    "##### Double-check for the columns names and update any of them if needed"
   ]
  },
  {
   "cell_type": "code",
   "execution_count": 28,
   "metadata": {
    "id": "ZFkdW9XEzbDq",
    "scrolled": true
   },
   "outputs": [
    {
     "name": "stdout",
     "output_type": "stream",
     "text": [
      "Index(['order_id', 'customers', 'city', 'state', 'order_date', 'total_units',\n",
      "       'revenue', 'product_name', 'category_name', 'brand_name', 'store_name',\n",
      "       'sales_rep'],\n",
      "      dtype='object')\n"
     ]
    }
   ],
   "source": [
    "# Check column names\n",
    "print(data.columns)"
   ]
  },
  {
   "cell_type": "code",
   "execution_count": 29,
   "metadata": {},
   "outputs": [
    {
     "name": "stdout",
     "output_type": "stream",
     "text": [
      "Index(['order_id', 'customers', 'city', 'state', 'order_date', 'total_units',\n",
      "       'revenue', 'product_name', 'category_name', 'brand_name', 'store_name',\n",
      "       'sales_rep'],\n",
      "      dtype='object')\n"
     ]
    }
   ],
   "source": [
    "# Rename columns if needed \n",
    "data.columns = [col.strip().replace(' ', '_').lower() for col in data.columns]\n",
    "print(data.columns)"
   ]
  },
  {
   "cell_type": "markdown",
   "metadata": {
    "id": "jkdSl9Y4zbDq"
   },
   "source": [
    "##### Can you convert the City column to UpperCases?"
   ]
  },
  {
   "cell_type": "code",
   "execution_count": 30,
   "metadata": {
    "id": "u--h0s5rzbDr"
   },
   "outputs": [],
   "source": [
    "# Convert the City column to uppercase\n",
    "data['city'] = data['city'].str.upper()"
   ]
  },
  {
   "cell_type": "code",
   "execution_count": 33,
   "metadata": {},
   "outputs": [
    {
     "data": {
      "text/plain": [
       "0       PLEASANTON\n",
       "1       PLEASANTON\n",
       "2       PLEASANTON\n",
       "3       PLEASANTON\n",
       "4       PLEASANTON\n",
       "           ...    \n",
       "4717       HOUSTON\n",
       "4718       HOUSTON\n",
       "4719        FORNEY\n",
       "4720        FORNEY\n",
       "4721        FORNEY\n",
       "Name: city, Length: 4722, dtype: object"
      ]
     },
     "execution_count": 33,
     "metadata": {},
     "output_type": "execute_result"
    }
   ],
   "source": [
    "data.city"
   ]
  },
  {
   "cell_type": "markdown",
   "metadata": {
    "id": "dUhsCRIrzbDr"
   },
   "source": [
    "### 4] Data Analysis & Visualization (EDA & Statistical Analysis)\n",
    "#### Exploratory Data Analysis"
   ]
  },
  {
   "cell_type": "markdown",
   "metadata": {
    "id": "XGxgPDLxzbDr"
   },
   "source": [
    "##### What is the average Revenue?"
   ]
  },
  {
   "cell_type": "code",
   "execution_count": 35,
   "metadata": {},
   "outputs": [
    {
     "name": "stdout",
     "output_type": "stream",
     "text": [
      "Average revenue: 1816.8125540027095\n"
     ]
    }
   ],
   "source": [
    "average_revenue = data['revenue'].mean()\n",
    "print(f\"Average revenue: {average_revenue}\")\n"
   ]
  },
  {
   "cell_type": "markdown",
   "metadata": {
    "id": "cvKtE5P0zbDr"
   },
   "source": [
    "##### What were the highest and lowest Revenue?"
   ]
  },
  {
   "cell_type": "code",
   "execution_count": 36,
   "metadata": {},
   "outputs": [],
   "source": [
    "highest_revenue = data['revenue'].max()"
   ]
  },
  {
   "cell_type": "code",
   "execution_count": 37,
   "metadata": {
    "id": "jI0QbSrDgenM"
   },
   "outputs": [
    {
     "data": {
      "text/plain": [
       "23999.98"
      ]
     },
     "execution_count": 37,
     "metadata": {},
     "output_type": "execute_result"
    }
   ],
   "source": [
    "highest_revenue"
   ]
  },
  {
   "cell_type": "code",
   "execution_count": 38,
   "metadata": {},
   "outputs": [],
   "source": [
    "lowest_revenue = data['revenue'].min()"
   ]
  },
  {
   "cell_type": "code",
   "execution_count": 39,
   "metadata": {},
   "outputs": [
    {
     "data": {
      "text/plain": [
       "89.99"
      ]
     },
     "execution_count": 39,
     "metadata": {},
     "output_type": "execute_result"
    }
   ],
   "source": [
    "lowest_revenue"
   ]
  },
  {
   "cell_type": "markdown",
   "metadata": {
    "id": "CudCgOX6zbDs"
   },
   "source": [
    "##### How many orders have 'Road Bikes'  as a category name ?"
   ]
  },
  {
   "cell_type": "code",
   "execution_count": 41,
   "metadata": {
    "id": "cXOT40uGgf-p"
   },
   "outputs": [
    {
     "name": "stdout",
     "output_type": "stream",
     "text": [
      "Number of orders with 'Road Bikes' category: 374\n"
     ]
    }
   ],
   "source": [
    "road_bikes_orders = data[data['category_name'] == 'Road Bikes'].shape[0]\n",
    "print(f\"Number of orders with 'Road Bikes' category: {road_bikes_orders}\")"
   ]
  },
  {
   "cell_type": "markdown",
   "metadata": {},
   "source": [
    "##### Display the data which revenue greater than 10000"
   ]
  },
  {
   "cell_type": "code",
   "execution_count": 42,
   "metadata": {},
   "outputs": [
    {
     "name": "stdout",
     "output_type": "stream",
     "text": [
      "      order_id          customers                    city state  order_date  \\\n",
      "1798       645   Consuela Collier         NORTH TONAWANDA    NY    8/1/2017   \n",
      "1844       660        Ashlee Pena              WHITESTONE    NY   18/1/2017   \n",
      "1888       672        Delmar Wise                LOCKPORT    NY   26/1/2017   \n",
      "1928       685      Ayanna Cherry               SMITHTOWN    NY   31/1/2017   \n",
      "1953       692         Kasha Todd                CAMPBELL    CA    5/2/2017   \n",
      "2029       717       Tereasa Bird              RONKONKOMA    NY   15/2/2017   \n",
      "2083       736      Klara Stanley                 WEBSTER    NY   27/2/2017   \n",
      "2100       741     Thalia Dillard              SAN ANGELO    TX   28/2/2017   \n",
      "2140       755    Kimberely Bowen                    TROY    NY    6/3/2017   \n",
      "2227       787       Collene Knox          CORPUS CHRISTI    TX   18/3/2017   \n",
      "2283       804     Letitia Franco        SARATOGA SPRINGS    NY   29/3/2017   \n",
      "2347       823   Gwendolyn Miller               HARLINGEN    TX    6/4/2017   \n",
      "2533       887   Chantell Bridges                 BUFFALO    NY   13/5/2017   \n",
      "2549       892         Laure Pena        WAPPINGERS FALLS    NY   15/5/2017   \n",
      "2581       904     Lorraine Marks              SAN CARLOS    CA   23/5/2017   \n",
      "2653       930     Abram Copeland               HARLINGEN    TX    5/6/2017   \n",
      "2654       930     Abram Copeland               HARLINGEN    TX    5/6/2017   \n",
      "2663       934     Corrina Sawyer                    TROY    NY    9/6/2017   \n",
      "2676       937      Melanie Hayes               LIVERPOOL    NY   11/6/2017   \n",
      "2701       945    Loreta Johnston           SPRING VALLEY    NY   14/6/2017   \n",
      "2705       946      Andreas Mayer            NEW ROCHELLE    NY   14/6/2017   \n",
      "2720       951     Tamela Harrell           CENTRAL ISLIP    NY   16/6/2017   \n",
      "2752       961      Lizzie Joyner               COACHELLA    CA   19/6/2017   \n",
      "2784       973       Cindi Larson            HOWARD BEACH    NY   24/6/2017   \n",
      "2830       987    Jeanie Kirkland             SANTA CLARA    CA    2/7/2017   \n",
      "2884      1003    Marlo Jefferson           NIAGARA FALLS    NY   14/7/2017   \n",
      "2893      1006       Olimpia Mays         OAKLAND GARDENS    NY   15/7/2017   \n",
      "2944      1023     Vashti Rosario                   BRONX    NY   23/7/2017   \n",
      "3046      1055     Cleopatra Tate           EAST ELMHURST    NY   12/8/2017   \n",
      "3167      1095     Wynona Douglas               HARLINGEN    TX   26/8/2017   \n",
      "3192      1105    Margret Barnett                  FORNEY    TX    1/9/2017   \n",
      "3215      1115      Penny Acevedo            BALLSTON SPA    NY    7/9/2017   \n",
      "3219      1117       Somer Jordan      HUNTINGTON STATION    NY    8/9/2017   \n",
      "3221      1118        Adena Blake            BALLSTON SPA    NY    8/9/2017   \n",
      "3380      1170    Alejandro Haney                 WANTAGH    NY   5/10/2017   \n",
      "3525      1220  Bernardina Cooper              WHITESTONE    NY  31/10/2017   \n",
      "3566      1234     Lizzette Stein            ORCHARD PARK    NY   7/11/2017   \n",
      "3633      1255        Yan Trevino               UNIONDALE    NY  19/11/2017   \n",
      "3654      1262      Terra Pickett               AMSTERDAM    NY  23/11/2017   \n",
      "3681      1271       Alina Mcleod               PATCHOGUE    NY  27/11/2017   \n",
      "3699      1277      Danielle Bond               PATCHOGUE    NY   1/12/2017   \n",
      "3712      1282       Aron Wiggins               OCEANSIDE    NY   3/12/2017   \n",
      "3758      1297       Shae Hickman             FLORAL PARK    NY  14/12/2017   \n",
      "3772      1302   Merideth Preston            POUGHKEEPSIE    NY  16/12/2017   \n",
      "3897      1338        Hae Ramirez           BALDWINSVILLE    NY   10/1/2018   \n",
      "3905      1341        Todd Waters               BAY SHORE    NY   12/1/2018   \n",
      "3927      1347      Muriel Juarez  PALOS VERDES PENINSULA    CA   15/1/2018   \n",
      "3977      1364       Shena Carter            HOWARD BEACH    NY   25/1/2018   \n",
      "4059      1393         Tena Huber                NEWBURGH    NY   14/2/2018   \n",
      "4262      1463     Dorothea Chang                 ASTORIA    NY   23/3/2018   \n",
      "4277      1468      Tameka Fisher           REDONDO BEACH    CA   27/3/2018   \n",
      "4386      1505      Adelle Larsen          EAST NORTHPORT    NY    8/4/2018   \n",
      "4389      1506        Abby Gamble              AMITYVILLE    NY    8/4/2018   \n",
      "4464      1529    Cleotilde Booth              SUGAR LAND    TX   12/4/2018   \n",
      "4495      1540        Hedwig Paul            APPLE VALLEY    CA   16/4/2018   \n",
      "4498      1541     Pamelia Newman                  MONROE    NY   16/4/2018   \n",
      "4583      1570          Fran Yang                   UTICA    NY   22/4/2018   \n",
      "4664      1593   Genoveva Baldwin         PORT WASHINGTON    NY   27/4/2018   \n",
      "\n",
      "      total_units   revenue                       product_name  \\\n",
      "1798            2  10599.98             Trek Remedy 9.8 - 2017   \n",
      "1844            2  10599.98             Trek Remedy 9.8 - 2017   \n",
      "1888            2  12999.98   Trek Silque SLR 8 Women's - 2017   \n",
      "1928            2  10999.98      Trek Domane SLR 6 Disc - 2017   \n",
      "1953            2  10999.98      Trek Domane SLR 6 Disc - 2017   \n",
      "2029            2  10999.98      Trek Domane SLR 6 Disc - 2017   \n",
      "2083            2  10999.98      Trek Domane SLR 6 Disc - 2017   \n",
      "2100            2  10999.98      Trek Domane SLR 6 Disc - 2017   \n",
      "2140            2  10599.98  Trek Fuel EX 9.8 27.5 Plus - 2017   \n",
      "2227            2  12999.98   Trek Silque SLR 8 Women's - 2017   \n",
      "2283            2  11999.98   Trek Silque SLR 7 Women's - 2017   \n",
      "2347            2  10999.98      Trek Domane SLR 6 Disc - 2017   \n",
      "2533            2  11999.98   Trek Silque SLR 7 Women's - 2017   \n",
      "2549            2  11999.98   Trek Silque SLR 7 Women's - 2017   \n",
      "2581            2  12999.98   Trek Silque SLR 8 Women's - 2017   \n",
      "2653            2  10999.98      Trek Domane SLR 6 Disc - 2017   \n",
      "2654            2  12999.98   Trek Silque SLR 8 Women's - 2017   \n",
      "2663            2  10999.98      Trek Domane SLR 6 Disc - 2017   \n",
      "2676            2  12999.98   Trek Silque SLR 8 Women's - 2017   \n",
      "2701            2  11999.98   Trek Silque SLR 7 Women's - 2017   \n",
      "2705            2  10999.98      Trek Domane SLR 6 Disc - 2017   \n",
      "2720            2  10599.98  Trek Fuel EX 9.8 27.5 Plus - 2017   \n",
      "2752            2  10599.98             Trek Remedy 9.8 - 2017   \n",
      "2784            2  10599.98             Trek Remedy 9.8 - 2017   \n",
      "2830            2  12999.98   Trek Silque SLR 8 Women's - 2017   \n",
      "2884            2  12999.98   Trek Silque SLR 8 Women's - 2017   \n",
      "2893            2  10999.98      Trek Domane SLR 6 Disc - 2017   \n",
      "2944            2  10599.98  Trek Fuel EX 9.8 27.5 Plus - 2017   \n",
      "3046            2  10599.98  Trek Fuel EX 9.8 27.5 Plus - 2017   \n",
      "3167            2  11999.98   Trek Silque SLR 7 Women's - 2017   \n",
      "3192            2  10999.98      Trek Domane SLR 6 Disc - 2017   \n",
      "3215            2  11999.98   Trek Silque SLR 7 Women's - 2017   \n",
      "3219            2  12999.98   Trek Silque SLR 8 Women's - 2017   \n",
      "3221            2  10599.98             Trek Remedy 9.8 - 2017   \n",
      "3380            2  10599.98             Trek Remedy 9.8 - 2017   \n",
      "3525            2  10599.98             Trek Remedy 9.8 - 2017   \n",
      "3566            2  10999.98      Trek Domane SLR 6 Disc - 2017   \n",
      "3633            2  10599.98  Trek Fuel EX 9.8 27.5 Plus - 2017   \n",
      "3654            2  10599.98  Trek Fuel EX 9.8 27.5 Plus - 2017   \n",
      "3681            2  11999.98   Trek Silque SLR 7 Women's - 2017   \n",
      "3699            2  10999.98      Trek Domane SLR 6 Disc - 2017   \n",
      "3712            2  11999.98   Trek Silque SLR 7 Women's - 2017   \n",
      "3758            2  12999.98   Trek Silque SLR 8 Women's - 2017   \n",
      "3772            2  10999.98      Trek Domane SLR 6 Disc - 2017   \n",
      "3897            2  12999.98           Trek Emonda SLR 8 - 2018   \n",
      "3905            2  10999.98      Trek Domane SLR 6 Disc - 2017   \n",
      "3927            2  10599.98  Trek Fuel EX 9.8 27.5 Plus - 2017   \n",
      "3977            2  23999.98      Trek Domane SLR 9 Disc - 2018   \n",
      "4059            2  10599.98             Trek Remedy 9.8 - 2017   \n",
      "4262            2  12999.98   Trek Silque SLR 8 Women's - 2017   \n",
      "4277            2  11999.98   Trek Silque SLR 7 Women's - 2017   \n",
      "4386            2  10599.98  Trek Fuel EX 9.8 27.5 Plus - 2017   \n",
      "4389            2  14999.98      Trek Domane SLR 8 Disc - 2018   \n",
      "4464            2  11999.98   Trek Silque SLR 7 Women's - 2017   \n",
      "4495            2  10999.98      Trek Domane SLR 6 Disc - 2018   \n",
      "4498            2  23999.98      Trek Domane SLR 9 Disc - 2018   \n",
      "4583            1  11999.99      Trek Domane SLR 9 Disc - 2018   \n",
      "4664            2  12999.98           Trek Emonda SLR 8 - 2018   \n",
      "\n",
      "       category_name brand_name        store_name        sales_rep  \n",
      "1798  Mountain Bikes       Trek     Baldwin Bikes  Marcelene Boyer  \n",
      "1844  Mountain Bikes       Trek     Baldwin Bikes    Venita Daniel  \n",
      "1888      Road Bikes       Trek     Baldwin Bikes  Marcelene Boyer  \n",
      "1928      Road Bikes       Trek     Baldwin Bikes    Venita Daniel  \n",
      "1953      Road Bikes       Trek  Santa Cruz Bikes    Genna Serrano  \n",
      "2029      Road Bikes       Trek     Baldwin Bikes  Marcelene Boyer  \n",
      "2083      Road Bikes       Trek     Baldwin Bikes    Venita Daniel  \n",
      "2100      Road Bikes       Trek     Rowlett Bikes      Kali Vargas  \n",
      "2140  Mountain Bikes       Trek     Baldwin Bikes  Marcelene Boyer  \n",
      "2227      Road Bikes       Trek     Rowlett Bikes    Layla Terrell  \n",
      "2283      Road Bikes       Trek     Baldwin Bikes  Marcelene Boyer  \n",
      "2347      Road Bikes       Trek     Rowlett Bikes      Kali Vargas  \n",
      "2533      Road Bikes       Trek     Baldwin Bikes  Marcelene Boyer  \n",
      "2549      Road Bikes       Trek     Baldwin Bikes    Venita Daniel  \n",
      "2581      Road Bikes       Trek  Santa Cruz Bikes  Mireya Copeland  \n",
      "2653      Road Bikes       Trek     Rowlett Bikes    Layla Terrell  \n",
      "2654      Road Bikes       Trek     Rowlett Bikes    Layla Terrell  \n",
      "2663      Road Bikes       Trek     Baldwin Bikes    Venita Daniel  \n",
      "2676      Road Bikes       Trek     Baldwin Bikes    Venita Daniel  \n",
      "2701      Road Bikes       Trek     Baldwin Bikes    Venita Daniel  \n",
      "2705      Road Bikes       Trek     Baldwin Bikes  Marcelene Boyer  \n",
      "2720  Mountain Bikes       Trek     Baldwin Bikes    Venita Daniel  \n",
      "2752  Mountain Bikes       Trek  Santa Cruz Bikes  Mireya Copeland  \n",
      "2784  Mountain Bikes       Trek     Baldwin Bikes  Marcelene Boyer  \n",
      "2830      Road Bikes       Trek  Santa Cruz Bikes  Mireya Copeland  \n",
      "2884      Road Bikes       Trek     Baldwin Bikes    Venita Daniel  \n",
      "2893      Road Bikes       Trek     Baldwin Bikes    Venita Daniel  \n",
      "2944  Mountain Bikes       Trek     Baldwin Bikes  Marcelene Boyer  \n",
      "3046  Mountain Bikes       Trek     Baldwin Bikes  Marcelene Boyer  \n",
      "3167      Road Bikes       Trek     Rowlett Bikes    Layla Terrell  \n",
      "3192      Road Bikes       Trek     Rowlett Bikes      Kali Vargas  \n",
      "3215      Road Bikes       Trek     Baldwin Bikes  Marcelene Boyer  \n",
      "3219      Road Bikes       Trek     Baldwin Bikes  Marcelene Boyer  \n",
      "3221  Mountain Bikes       Trek     Baldwin Bikes  Marcelene Boyer  \n",
      "3380  Mountain Bikes       Trek     Baldwin Bikes  Marcelene Boyer  \n",
      "3525  Mountain Bikes       Trek     Baldwin Bikes  Marcelene Boyer  \n",
      "3566      Road Bikes       Trek     Baldwin Bikes  Marcelene Boyer  \n",
      "3633  Mountain Bikes       Trek     Baldwin Bikes  Marcelene Boyer  \n",
      "3654  Mountain Bikes       Trek     Baldwin Bikes  Marcelene Boyer  \n",
      "3681      Road Bikes       Trek     Baldwin Bikes  Marcelene Boyer  \n",
      "3699      Road Bikes       Trek     Baldwin Bikes  Marcelene Boyer  \n",
      "3712      Road Bikes       Trek     Baldwin Bikes  Marcelene Boyer  \n",
      "3758      Road Bikes       Trek     Baldwin Bikes  Marcelene Boyer  \n",
      "3772      Road Bikes       Trek     Baldwin Bikes    Venita Daniel  \n",
      "3897      Road Bikes       Trek     Baldwin Bikes  Marcelene Boyer  \n",
      "3905      Road Bikes       Trek     Baldwin Bikes    Venita Daniel  \n",
      "3927  Mountain Bikes       Trek  Santa Cruz Bikes  Mireya Copeland  \n",
      "3977      Road Bikes       Trek     Baldwin Bikes  Marcelene Boyer  \n",
      "4059  Mountain Bikes       Trek     Baldwin Bikes    Venita Daniel  \n",
      "4262      Road Bikes       Trek     Baldwin Bikes    Venita Daniel  \n",
      "4277      Road Bikes       Trek  Santa Cruz Bikes  Mireya Copeland  \n",
      "4386  Mountain Bikes       Trek     Baldwin Bikes    Venita Daniel  \n",
      "4389      Road Bikes       Trek     Baldwin Bikes    Venita Daniel  \n",
      "4464      Road Bikes       Trek     Rowlett Bikes      Kali Vargas  \n",
      "4495      Road Bikes       Trek  Santa Cruz Bikes  Mireya Copeland  \n",
      "4498      Road Bikes       Trek     Baldwin Bikes    Venita Daniel  \n",
      "4583      Road Bikes       Trek     Baldwin Bikes    Venita Daniel  \n",
      "4664      Road Bikes       Trek     Baldwin Bikes  Marcelene Boyer  \n"
     ]
    }
   ],
   "source": [
    "high_revenue_data = data[data['revenue'] > 10000]\n",
    "print(high_revenue_data)\n"
   ]
  },
  {
   "cell_type": "markdown",
   "metadata": {},
   "source": [
    "##### what is the total revenue for each Brand ?"
   ]
  },
  {
   "cell_type": "code",
   "execution_count": 45,
   "metadata": {},
   "outputs": [
    {
     "name": "stdout",
     "output_type": "stream",
     "text": [
      "brand_name\n",
      "Electra         1344143.79\n",
      "Haro             207096.69\n",
      "Heller           193798.71\n",
      "Pure Cycles      166164.00\n",
      "Ritchey           88498.82\n",
      "Strider            4849.75\n",
      "Sun Bicycles     381919.69\n",
      "Surly           1063135.82\n",
      "Trek            5129381.61\n",
      "Name: revenue, dtype: float64\n"
     ]
    }
   ],
   "source": [
    "total_revenue_by_brand = data.groupby('brand_name')['revenue'].sum()\n",
    "print(total_revenue_by_brand)\n"
   ]
  },
  {
   "cell_type": "markdown",
   "metadata": {},
   "source": [
    "##### what is the total revenue for each Category Name ?"
   ]
  },
  {
   "cell_type": "code",
   "execution_count": 5,
   "metadata": {},
   "outputs": [
    {
     "name": "stdout",
     "output_type": "stream",
     "text": [
      "category_name\n",
      "Children Bicycles       327888.21\n",
      "Comfort Bicycles        438506.87\n",
      "Cruisers Bicycles      1109151.04\n",
      "Cyclocross Bicycles     799874.60\n",
      "Electric Bikes         1020236.85\n",
      "Mountain Bikes         3030775.71\n",
      "Road Bikes             1852555.60\n",
      "Name: revenue, dtype: float64\n"
     ]
    }
   ],
   "source": [
    "total_revenue_by_category = data.groupby('category_name')['revenue'].sum()\n",
    "print(total_revenue_by_category)\n"
   ]
  },
  {
   "cell_type": "code",
   "execution_count": 6,
   "metadata": {},
   "outputs": [
    {
     "data": {
      "text/plain": [
       "<bound method Series.count of Electra         1729\n",
       "Trek            1235\n",
       "Surly            605\n",
       "Sun Bicycles     485\n",
       "Pure Cycles      258\n",
       "Haro             220\n",
       "Heller            97\n",
       "Ritchey           77\n",
       "Strider           16\n",
       "Name: brand_name, dtype: int64>"
      ]
     },
     "execution_count": 6,
     "metadata": {},
     "output_type": "execute_result"
    }
   ],
   "source": [
    "data.brand_name.value_counts().count"
   ]
  },
  {
   "cell_type": "code",
   "execution_count": 7,
   "metadata": {},
   "outputs": [
    {
     "data": {
      "text/plain": [
       "<bound method Series.count of Electra         1729\n",
       "Trek            1235\n",
       "Surly            605\n",
       "Sun Bicycles     485\n",
       "Pure Cycles      258\n",
       "Haro             220\n",
       "Heller            97\n",
       "Ritchey           77\n",
       "Strider           16\n",
       "Name: brand_name, dtype: int64>"
      ]
     },
     "execution_count": 7,
     "metadata": {},
     "output_type": "execute_result"
    }
   ],
   "source": [
    "data.brand_name.value_counts().count"
   ]
  },
  {
   "cell_type": "code",
   "execution_count": 8,
   "metadata": {},
   "outputs": [
    {
     "name": "stdout",
     "output_type": "stream",
     "text": [
      "\n",
      "Average total units by each state:\n",
      "state\n",
      "CA    1.506958\n",
      "NY    1.495775\n",
      "TX    1.502879\n",
      "Name: total_units, dtype: float64\n"
     ]
    }
   ],
   "source": [
    "average_total_units_by_state = data.groupby('state')['total_units'].mean()\n",
    "print(\"\\nAverage total units by each state:\")\n",
    "print(average_total_units_by_state)"
   ]
  },
  {
   "cell_type": "markdown",
   "metadata": {
    "id": "3lX0YPi7zbDu"
   },
   "source": [
    "# GOOD LUCK!"
   ]
  }
 ],
 "metadata": {
  "colab": {
   "collapsed_sections": [
    "jcjhePTczbDT",
    "bclBnIb-zbDd",
    "fM5VhCv3zbDe",
    "o_PB64nIzbDf",
    "wTNMLj0FzbDk",
    "BRiR3MWNzbDl",
    "yQf6NX_FzbDm",
    "Cmf07HWEzbDo",
    "SLNiesMTzbDo",
    "1vPyGDAUzbDp",
    "jkdSl9Y4zbDq",
    "dUhsCRIrzbDr",
    "XGxgPDLxzbDr",
    "cvKtE5P0zbDr",
    "CudCgOX6zbDs",
    "T9WAl_CnzbDs",
    "qg5WsJrIzbDt",
    "c0G2Fv7nzbDt",
    "sKwL9lepzbDt",
    "2J9_exx1zbDu",
    "o2ZV6PFHzbDu",
    "tQWwaQHXzbDu",
    "TuVJ8pNbzbDv"
   ],
   "provenance": []
  },
  "kernelspec": {
   "display_name": "Python 3 (ipykernel)",
   "language": "python",
   "name": "python3"
  },
  "language_info": {
   "codemirror_mode": {
    "name": "ipython",
    "version": 3
   },
   "file_extension": ".py",
   "mimetype": "text/x-python",
   "name": "python",
   "nbconvert_exporter": "python",
   "pygments_lexer": "ipython3",
   "version": "3.11.4"
  }
 },
 "nbformat": 4,
 "nbformat_minor": 1
}
